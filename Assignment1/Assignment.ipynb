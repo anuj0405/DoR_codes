{
 "cells": [
  {
   "cell_type": "code",
   "execution_count": 1,
   "metadata": {},
   "outputs": [],
   "source": [
    "import numpy as np\n",
    "import os\n",
    "import html as ihtml\n",
    "import pandas as pd\n",
    "from pandas import DataFrame\n",
    "import csv\n",
    "import re\n",
    "import nltk\n",
    "from urllib.request import urlopen\n",
    "from bs4 import BeautifulSoup\n",
    "from nltk.tokenize import sent_tokenize, word_tokenize\n",
    "from nltk.corpus import stopwords \n",
    "from nltk.tokenize import word_tokenize\n",
    "from nltk.stem import WordNetLemmatizer\n",
    "from nltk.stem import PorterStemmer \n"
   ]
  },
  {
   "cell_type": "code",
   "execution_count": 2,
   "metadata": {},
   "outputs": [],
   "source": [
    "data=pd.read_csv('Downloads/biology.csv',delimiter=',')\n",
    "cList = {\n",
    "  \"ain't\": \"am not\",\n",
    "  \"aren't\": \"are not\",\n",
    "  \"can't\": \"cannot\",\n",
    "  \"can't've\": \"cannot have\",\n",
    "  \"'cause\": \"because\",\n",
    "  \"could've\": \"could have\",\n",
    "  \"couldn't\": \"could not\",\n",
    "  \"couldn't've\": \"could not have\",\n",
    "  \"didn't\": \"did not\",\n",
    "  \"doesn't\": \"does not\",\n",
    "  \"don't\": \"do not\",\n",
    "  \"hadn't\": \"had not\",\n",
    "  \"hadn't've\": \"had not have\",\n",
    "  \"hasn't\": \"has not\",\n",
    "  \"haven't\": \"have not\",\n",
    "  \"he'd\": \"he would\",\n",
    "  \"he'd've\": \"he would have\",\n",
    "  \"he'll\": \"he will\",\n",
    "  \"he'll've\": \"he will have\",\n",
    "  \"he's\": \"he is\",\n",
    "  \"how'd\": \"how did\",\n",
    "  \"how'd'y\": \"how do you\",\n",
    "  \"how'll\": \"how will\",\n",
    "  \"how's\": \"how is\",\n",
    "  \"I'd\": \"I would\",\n",
    "  \"I'd've\": \"I would have\",\n",
    "  \"I'll\": \"I will\",\n",
    "  \"I'll've\": \"I will have\",\n",
    "  \"I'm\": \"I am\",\n",
    "  \"i'm\": \"I am\",\n",
    "  \"I've\": \"I have\",\n",
    "  \"isn't\": \"is not\",\n",
    "  \"it'd\": \"it had\",\n",
    "  \"it'd've\": \"it would have\",\n",
    "  \"it'll\": \"it will\",\n",
    "  \"it'll've\": \"it will have\",\n",
    "  \"it's\": \"it is\",\n",
    "  \"let's\": \"let us\",\n",
    "  \"ma'am\": \"madam\",\n",
    "  \"mayn't\": \"may not\",\n",
    "  \"might've\": \"might have\",\n",
    "  \"mightn't\": \"might not\",\n",
    "  \"mightn't've\": \"might not have\",\n",
    "  \"must've\": \"must have\",\n",
    "  \"mustn't\": \"must not\",\n",
    "  \"mustn't've\": \"must not have\",\n",
    "  \"needn't\": \"need not\",\n",
    "  \"needn't've\": \"need not have\",\n",
    "  \"o'clock\": \"of the clock\",\n",
    "  \"oughtn't\": \"ought not\",\n",
    "  \"oughtn't've\": \"ought not have\",\n",
    "  \"shan't\": \"shall not\",\n",
    "  \"sha'n't\": \"shall not\",\n",
    "  \"shan't've\": \"shall not have\",\n",
    "  \"she'd\": \"she would\",\n",
    "  \"she'd've\": \"she would have\",\n",
    "  \"she'll\": \"she will\",\n",
    "  \"she'll've\": \"she will have\",\n",
    "  \"she's\": \"she is\",\n",
    "  \"should've\": \"should have\",\n",
    "  \"shouldn't\": \"should not\",\n",
    "  \"shouldn't've\": \"should not have\",\n",
    "  \"so've\": \"so have\",\n",
    "  \"so's\": \"so is\",\n",
    "  \"that'd\": \"that would\",\n",
    "  \"that'd've\": \"that would have\",\n",
    "  \"that's\": \"that is\",\n",
    "  \"there'd\": \"there had\",\n",
    "  \"there'd've\": \"there would have\",\n",
    "  \"there's\": \"there is\",\n",
    "  \"they'd\": \"they would\",\n",
    "  \"they'd've\": \"they would have\",\n",
    "  \"they'll\": \"they will\",\n",
    "  \"they'll've\": \"they will have\",\n",
    "  \"they're\": \"they are\",\n",
    "  \"they've\": \"they have\",\n",
    "  \"to've\": \"to have\",\n",
    "  \"wasn't\": \"was not\",\n",
    "  \"we'd\": \"we had\",\n",
    "  \"we'd've\": \"we would have\",\n",
    "  \"we'll\": \"we will\",\n",
    "  \"we'll've\": \"we will have\",\n",
    "  \"we're\": \"we are\",\n",
    "  \"we've\": \"we have\",\n",
    "  \"weren't\": \"were not\",\n",
    "  \"what'll\": \"what will\",\n",
    "  \"what'll've\": \"what will have\",\n",
    "  \"what're\": \"what are\",\n",
    "  \"what's\": \"what is\",\n",
    "  \"what've\": \"what have\",\n",
    "  \"when's\": \"when is\",\n",
    "  \"when've\": \"when have\",\n",
    "  \"where'd\": \"where did\",\n",
    "  \"where's\": \"where is\",\n",
    "  \"where've\": \"where have\",\n",
    "  \"who'll\": \"who will\",\n",
    "  \"who'll've\": \"who will have\",\n",
    "  \"who's\": \"who is\",\n",
    "  \"who've\": \"who have\",\n",
    "  \"why's\": \"why is\",\n",
    "  \"why've\": \"why have\",\n",
    "  \"will've\": \"will have\",\n",
    "  \"won't\": \"will not\",\n",
    "  \"won't've\": \"will not have\",\n",
    "  \"would've\": \"would have\",\n",
    "  \"wouldn't\": \"would not\",\n",
    "  \"wouldn't've\": \"would not have\",\n",
    "  \"y'all\": \"you all\",\n",
    "  \"y'alls\": \"you alls\",\n",
    "  \"y'all'd\": \"you all would\",\n",
    "  \"y'all'd've\": \"you all would have\",\n",
    "  \"y'all're\": \"you all are\",\n",
    "  \"y'all've\": \"you all have\",\n",
    "  \"you'd\": \"you had\",\n",
    "  \"you'd've\": \"you would have\",\n",
    "  \"you'll\": \"you you will\",\n",
    "  \"you'll've\": \"you you will have\",\n",
    "  \"you're\": \"you are\",\n",
    "  \"you've\": \"you have\"\n",
    "}\n",
    "\n",
    "c_re = re.compile('(%s)' % '|'.join(cList.keys()))\n",
    "\n",
    "def expandContractions(text, c_re=c_re):\n",
    "    def replace(match):\n",
    "        return cList[match.group(0)]\n",
    "    return c_re.sub(replace, text.lower())"
   ]
  },
  {
   "cell_type": "code",
   "execution_count": 3,
   "metadata": {},
   "outputs": [
    {
     "data": {
      "text/html": [
       "<div>\n",
       "<style scoped>\n",
       "    .dataframe tbody tr th:only-of-type {\n",
       "        vertical-align: middle;\n",
       "    }\n",
       "\n",
       "    .dataframe tbody tr th {\n",
       "        vertical-align: top;\n",
       "    }\n",
       "\n",
       "    .dataframe thead th {\n",
       "        text-align: right;\n",
       "    }\n",
       "</style>\n",
       "<table border=\"1\" class=\"dataframe\">\n",
       "  <thead>\n",
       "    <tr style=\"text-align: right;\">\n",
       "      <th></th>\n",
       "      <th>id</th>\n",
       "      <th>title</th>\n",
       "      <th>content</th>\n",
       "      <th>tags</th>\n",
       "    </tr>\n",
       "  </thead>\n",
       "  <tbody>\n",
       "    <tr>\n",
       "      <th>0</th>\n",
       "      <td>1</td>\n",
       "      <td>What is the criticality of the ribosome bindin...</td>\n",
       "      <td>&lt;p&gt;In prokaryotic translation, how critical fo...</td>\n",
       "      <td>ribosome binding-sites translation synthetic-b...</td>\n",
       "    </tr>\n",
       "    <tr>\n",
       "      <th>1</th>\n",
       "      <td>2</td>\n",
       "      <td>How is RNAse contamination in RNA based experi...</td>\n",
       "      <td>&lt;p&gt;Does anyone have any suggestions to prevent...</td>\n",
       "      <td>rna biochemistry</td>\n",
       "    </tr>\n",
       "    <tr>\n",
       "      <th>2</th>\n",
       "      <td>3</td>\n",
       "      <td>Are lymphocyte sizes clustered in two groups?</td>\n",
       "      <td>&lt;p&gt;Tortora writes in &lt;em&gt;Principles of Anatomy...</td>\n",
       "      <td>immunology cell-biology hematology</td>\n",
       "    </tr>\n",
       "    <tr>\n",
       "      <th>3</th>\n",
       "      <td>4</td>\n",
       "      <td>How long does antibiotic-dosed LB maintain goo...</td>\n",
       "      <td>&lt;p&gt;Various people in our lab will prepare a li...</td>\n",
       "      <td>cell-culture</td>\n",
       "    </tr>\n",
       "    <tr>\n",
       "      <th>4</th>\n",
       "      <td>5</td>\n",
       "      <td>Is exon order always preserved in splicing?</td>\n",
       "      <td>&lt;p&gt;Are there any cases in which the splicing m...</td>\n",
       "      <td>splicing mrna spliceosome introns exons</td>\n",
       "    </tr>\n",
       "    <tr>\n",
       "      <th>...</th>\n",
       "      <td>...</td>\n",
       "      <td>...</td>\n",
       "      <td>...</td>\n",
       "      <td>...</td>\n",
       "    </tr>\n",
       "    <tr>\n",
       "      <th>13191</th>\n",
       "      <td>51254</td>\n",
       "      <td>Sore in mouth that is hard</td>\n",
       "      <td>&lt;p&gt;Had a sore throat and a sore in the mouth. ...</td>\n",
       "      <td>human-biology</td>\n",
       "    </tr>\n",
       "    <tr>\n",
       "      <th>13192</th>\n",
       "      <td>51258</td>\n",
       "      <td>Besides fruits and milk, what other things in ...</td>\n",
       "      <td>&lt;p&gt;Besides fruits and milk, what other example...</td>\n",
       "      <td>evolution food</td>\n",
       "    </tr>\n",
       "    <tr>\n",
       "      <th>13193</th>\n",
       "      <td>51261</td>\n",
       "      <td>What is delayed compliance in blood vessels?</td>\n",
       "      <td>&lt;p&gt;What I understand is it is a permanent stre...</td>\n",
       "      <td>cardiology</td>\n",
       "    </tr>\n",
       "    <tr>\n",
       "      <th>13194</th>\n",
       "      <td>51262</td>\n",
       "      <td>How do you index the scientific articles in a ...</td>\n",
       "      <td>&lt;p&gt;I want to start recording some concepts abo...</td>\n",
       "      <td>data</td>\n",
       "    </tr>\n",
       "    <tr>\n",
       "      <th>13195</th>\n",
       "      <td>51264</td>\n",
       "      <td>Thin layers or laminae that make up a single s...</td>\n",
       "      <td>&lt;p&gt;I took the photograph below of some tree ri...</td>\n",
       "      <td>dendrology</td>\n",
       "    </tr>\n",
       "  </tbody>\n",
       "</table>\n",
       "<p>13196 rows × 4 columns</p>\n",
       "</div>"
      ],
      "text/plain": [
       "          id                                              title  \\\n",
       "0          1  What is the criticality of the ribosome bindin...   \n",
       "1          2  How is RNAse contamination in RNA based experi...   \n",
       "2          3      Are lymphocyte sizes clustered in two groups?   \n",
       "3          4  How long does antibiotic-dosed LB maintain goo...   \n",
       "4          5        Is exon order always preserved in splicing?   \n",
       "...      ...                                                ...   \n",
       "13191  51254                         Sore in mouth that is hard   \n",
       "13192  51258  Besides fruits and milk, what other things in ...   \n",
       "13193  51261       What is delayed compliance in blood vessels?   \n",
       "13194  51262  How do you index the scientific articles in a ...   \n",
       "13195  51264  Thin layers or laminae that make up a single s...   \n",
       "\n",
       "                                                 content  \\\n",
       "0      <p>In prokaryotic translation, how critical fo...   \n",
       "1      <p>Does anyone have any suggestions to prevent...   \n",
       "2      <p>Tortora writes in <em>Principles of Anatomy...   \n",
       "3      <p>Various people in our lab will prepare a li...   \n",
       "4      <p>Are there any cases in which the splicing m...   \n",
       "...                                                  ...   \n",
       "13191  <p>Had a sore throat and a sore in the mouth. ...   \n",
       "13192  <p>Besides fruits and milk, what other example...   \n",
       "13193  <p>What I understand is it is a permanent stre...   \n",
       "13194  <p>I want to start recording some concepts abo...   \n",
       "13195  <p>I took the photograph below of some tree ri...   \n",
       "\n",
       "                                                    tags  \n",
       "0      ribosome binding-sites translation synthetic-b...  \n",
       "1                                       rna biochemistry  \n",
       "2                     immunology cell-biology hematology  \n",
       "3                                           cell-culture  \n",
       "4                splicing mrna spliceosome introns exons  \n",
       "...                                                  ...  \n",
       "13191                                      human-biology  \n",
       "13192                                     evolution food  \n",
       "13193                                         cardiology  \n",
       "13194                                               data  \n",
       "13195                                         dendrology  \n",
       "\n",
       "[13196 rows x 4 columns]"
      ]
     },
     "execution_count": 3,
     "metadata": {},
     "output_type": "execute_result"
    }
   ],
   "source": [
    "data"
   ]
  },
  {
   "cell_type": "code",
   "execution_count": 4,
   "metadata": {},
   "outputs": [],
   "source": [
    "#findL = '<p>'\n",
    "#replaceL=''\n",
    "\n",
    "#data['content'] = data['content'].replace(findL, replaceL)\n",
    "#res = list(map(str.strip, test_list)) "
   ]
  },
  {
   "cell_type": "code",
   "execution_count": 5,
   "metadata": {},
   "outputs": [],
   "source": [
    "#export_csv = test_list.to_csv (r'Downloads/export_dataframe.csv', index = None, header=True)\n",
    "#f=open('Downloads/export_dataframe.csv','r')\n",
    "#soup = BeautifulSoup(f, 'lxml')\n",
    "#soup.find_all('p')\n",
    "#print(soup.get_text())\n",
    "#answers = open('Downloads/export_dataframe.csv','r')"
   ]
  },
  {
   "cell_type": "code",
   "execution_count": 6,
   "metadata": {},
   "outputs": [],
   "source": [
    "def clean_text(text):\n",
    "    text = BeautifulSoup(ihtml.unescape(text), \"lxml\").text\n",
    "    text = re.sub(r\"\\s+\", \" \", text)\n",
    "    return text"
   ]
  },
  {
   "cell_type": "code",
   "execution_count": 7,
   "metadata": {},
   "outputs": [],
   "source": [
    "i=0\n",
    "while i<13196:\n",
    "    sample_text = data.loc[i,'content']\n",
    "    data.loc[i,'content'] = clean_text(sample_text)\n",
    "    i=i+1\n"
   ]
  },
  {
   "cell_type": "code",
   "execution_count": 8,
   "metadata": {},
   "outputs": [
    {
     "data": {
      "text/plain": [
       "0        In prokaryotic translation, how critical for e...\n",
       "1        Does anyone have any suggestions to prevent RN...\n",
       "2        Tortora writes in Principles of Anatomy and Ph...\n",
       "3        Various people in our lab will prepare a liter...\n",
       "4        Are there any cases in which the splicing mach...\n",
       "                               ...                        \n",
       "13191    Had a sore throat and a sore in the mouth. The...\n",
       "13192    Besides fruits and milk, what other examples a...\n",
       "13193    What I understand is it is a permanent stretch...\n",
       "13194    I want to start recording some concepts about ...\n",
       "13195    I took the photograph below of some tree rings...\n",
       "Name: content, Length: 13196, dtype: object"
      ]
     },
     "execution_count": 8,
     "metadata": {},
     "output_type": "execute_result"
    }
   ],
   "source": [
    "data['content']"
   ]
  },
  {
   "cell_type": "code",
   "execution_count": 9,
   "metadata": {},
   "outputs": [],
   "source": [
    "def punctuation(string):\n",
    "    punctuations = '''!()-[]{};:'\"\\,<>./?@#$%^&*_~'''\n",
    "    for x in string.lower():\n",
    "        if x in punctuations:\n",
    "            string =string.replace(x,\"\")\n",
    "    return string"
   ]
  },
  {
   "cell_type": "code",
   "execution_count": 10,
   "metadata": {},
   "outputs": [
    {
     "name": "stdout",
     "output_type": "stream",
     "text": [
      "\n",
      "\n",
      "Are there any cases in which the splicing machinery constructs an mRNA in which the exons are not in the 5' -> 3' genomic order? I'm interested any such cases, whether they involve constitutive or alternative splicing. \n"
     ]
    }
   ],
   "source": [
    "#i=0\n",
    "#while i<13196:\n",
    "string=data.loc[4,'content']\n",
    "print(\"\\n\")\n",
    "print(string)\n",
    "    \n"
   ]
  },
  {
   "cell_type": "code",
   "execution_count": 11,
   "metadata": {},
   "outputs": [
    {
     "name": "stdout",
     "output_type": "stream",
     "text": [
      "\n",
      "\n",
      "are there any cases in which the splicing machinery constructs an mrna in which the exons are not in the 5' -> 3' genomic order? I am interested any such cases, whether they involve constitutive or alternative splicing. \n"
     ]
    }
   ],
   "source": [
    "print(\"\\n\")\n",
    "data.loc[4,'content']=expandContractions(string)\n",
    "string=data.loc[4,'content']\n",
    "print(string)"
   ]
  },
  {
   "cell_type": "code",
   "execution_count": 12,
   "metadata": {},
   "outputs": [
    {
     "name": "stdout",
     "output_type": "stream",
     "text": [
      "\n",
      "\n",
      "are there any cases in which the splicing machinery constructs an mrna in which the exons are not in the 5  3 genomic order I am interested any such cases whether they involve constitutive or alternative splicing \n"
     ]
    }
   ],
   "source": [
    "print(\"\\n\")\n",
    "new_text=punctuation(string)\n",
    "print(new_text)\n",
    " #   i=+1"
   ]
  },
  {
   "cell_type": "code",
   "execution_count": 13,
   "metadata": {},
   "outputs": [
    {
     "name": "stdout",
     "output_type": "stream",
     "text": [
      "\n",
      "\n",
      "are there any cases in which the splicing machinery constructs an mrna in which the exons are not in the 5  3 genomic order I am interested any such cases whether they involve constitutive or alternative splicing \n"
     ]
    }
   ],
   "source": [
    "print(\"\\n\")\n",
    "new_text.lower()\n",
    "print(new_text)"
   ]
  },
  {
   "cell_type": "code",
   "execution_count": 14,
   "metadata": {},
   "outputs": [
    {
     "name": "stdout",
     "output_type": "stream",
     "text": [
      "\n",
      "\n",
      "['are', 'there', 'any', 'cases', 'in', 'which', 'the', 'splicing', 'machinery', 'constructs', 'an', 'mrna', 'in', 'which', 'the', 'exons', 'are', 'not', 'in', 'the', '5', '3', 'genomic', 'order', 'I', 'am', 'interested', 'any', 'such', 'cases', 'whether', 'they', 'involve', 'constitutive', 'or', 'alternative', 'splicing']\n",
      "\n",
      "\n",
      "['cases', 'splicing', 'machinery', 'constructs', 'mrna', 'exons', '5', '3', 'genomic', 'order', 'I', 'interested', 'cases', 'whether', 'involve', 'constitutive', 'alternative', 'splicing']\n"
     ]
    }
   ],
   "source": [
    "print(\"\\n\")\n",
    "stop_words = set(stopwords.words('english'))\n",
    "word_tokens = word_tokenize(new_text)\n",
    "print(word_tokens)\n",
    "removing_stopwords = [word for word in word_tokens if word not in stop_words]\n",
    "print(\"\\n\")\n",
    "print (removing_stopwords)"
   ]
  },
  {
   "cell_type": "code",
   "execution_count": 15,
   "metadata": {},
   "outputs": [
    {
     "name": "stdout",
     "output_type": "stream",
     "text": [
      "\n",
      "\n",
      "['are', 'there', 'any', 'case', 'in', 'which', 'the', 'splicing', 'machinery', 'construct', 'an', 'mrna', 'in', 'which', 'the', 'exon', 'are', 'not', 'in', 'the', '5', '3', 'genomic', 'order', 'I', 'am', 'interested', 'any', 'such', 'case', 'whether', 'they', 'involve', 'constitutive', 'or', 'alternative', 'splicing']\n"
     ]
    }
   ],
   "source": [
    "lemmatizer = WordNetLemmatizer() \n",
    "word_tokens = word_tokenize(new_text)\n",
    "lemmatized_word = [lemmatizer.lemmatize(word) for word in word_tokens]\n",
    "print(\"\\n\")\n",
    "print (lemmatized_word)"
   ]
  },
  {
   "cell_type": "code",
   "execution_count": 16,
   "metadata": {},
   "outputs": [
    {
     "name": "stdout",
     "output_type": "stream",
     "text": [
      "\n",
      "\n",
      "are  :  are\n",
      "there  :  there\n",
      "any  :  ani\n",
      "cases  :  case\n",
      "in  :  in\n",
      "which  :  which\n",
      "the  :  the\n",
      "splicing  :  splice\n",
      "machinery  :  machineri\n",
      "constructs  :  construct\n",
      "an  :  an\n",
      "mrna  :  mrna\n",
      "in  :  in\n",
      "which  :  which\n",
      "the  :  the\n",
      "exons  :  exon\n",
      "are  :  are\n",
      "not  :  not\n",
      "in  :  in\n",
      "the  :  the\n",
      "5  :  5\n",
      "3  :  3\n",
      "genomic  :  genom\n",
      "order  :  order\n",
      "I  :  I\n",
      "am  :  am\n",
      "interested  :  interest\n",
      "any  :  ani\n",
      "such  :  such\n",
      "cases  :  case\n",
      "whether  :  whether\n",
      "they  :  they\n",
      "involve  :  involv\n",
      "constitutive  :  constitut\n",
      "or  :  or\n",
      "alternative  :  altern\n",
      "splicing  :  splice\n"
     ]
    }
   ],
   "source": [
    "ps = PorterStemmer() \n",
    "  \n",
    "# choose some words to be stemmed \n",
    "print(\"\\n\")  \n",
    "for w in word_tokens: \n",
    "    print(w, \" : \", ps.stem(w))"
   ]
  },
  {
   "cell_type": "code",
   "execution_count": null,
   "metadata": {},
   "outputs": [],
   "source": []
  },
  {
   "cell_type": "code",
   "execution_count": 17,
   "metadata": {},
   "outputs": [],
   "source": [
    "#sample_text = clean_text(sample_text)\n",
    "#sample_text"
   ]
  },
  {
   "cell_type": "code",
   "execution_count": 18,
   "metadata": {},
   "outputs": [],
   "source": [
    "#sample_text = ihtml.unescape(sample_text)\n",
    "#sample_text"
   ]
  },
  {
   "cell_type": "code",
   "execution_count": 19,
   "metadata": {},
   "outputs": [],
   "source": [
    "#sample_text = BeautifulSoup(sample_text, \"lxml\").text\n",
    "#sample_text"
   ]
  },
  {
   "cell_type": "code",
   "execution_count": 20,
   "metadata": {},
   "outputs": [],
   "source": [
    "#sample_text = re.sub(r\"\\s+\", \" \", sample_text)\n",
    "#sample_text"
   ]
  },
  {
   "cell_type": "code",
   "execution_count": null,
   "metadata": {},
   "outputs": [],
   "source": []
  }
 ],
 "metadata": {
  "kernelspec": {
   "display_name": "Python 3",
   "language": "python",
   "name": "python3"
  },
  "language_info": {
   "codemirror_mode": {
    "name": "ipython",
    "version": 3
   },
   "file_extension": ".py",
   "mimetype": "text/x-python",
   "name": "python",
   "nbconvert_exporter": "python",
   "pygments_lexer": "ipython3",
   "version": "3.7.6"
  }
 },
 "nbformat": 4,
 "nbformat_minor": 2
}
